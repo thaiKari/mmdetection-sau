{
 "cells": [
  {
   "cell_type": "code",
   "execution_count": 1,
   "metadata": {},
   "outputs": [],
   "source": [
    "import torch\n",
    "\n",
    "pretrained_weights  = torch.load('./models/libra_faster_rcnn_x101_64x4d_fpn_1x_20190525-359c134a.pth')\n",
    "\n",
    "num_class = 2\n",
    "pretrained_weights['state_dict']['bbox_head.fc_cls.weight'].resize_(num_class, 1024)\n",
    "pretrained_weights['state_dict']['bbox_head.fc_cls.bias'].resize_(num_class)\n",
    "pretrained_weights['state_dict']['bbox_head.fc_reg.weight'].resize_(num_class*4, 1024)\n",
    "pretrained_weights['state_dict']['bbox_head.fc_reg.bias'].resize_(num_class*4)\n",
    "\n",
    "torch.save(pretrained_weights, \"./models/libra_faster_rcnn_x101_64x4d_fpn_1x_%d.pth\"%num_class)"
   ]
  },
  {
   "cell_type": "code",
   "execution_count": null,
   "metadata": {},
   "outputs": [],
   "source": []
  }
 ],
 "metadata": {
  "kernelspec": {
   "display_name": "open-mmlab",
   "language": "python",
   "name": "myenv"
  },
  "language_info": {
   "codemirror_mode": {
    "name": "ipython",
    "version": 3
   },
   "file_extension": ".py",
   "mimetype": "text/x-python",
   "name": "python",
   "nbconvert_exporter": "python",
   "pygments_lexer": "ipython3",
   "version": "3.7.5"
  }
 },
 "nbformat": 4,
 "nbformat_minor": 2
}
