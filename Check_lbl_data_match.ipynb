{
 "cells": [
  {
   "cell_type": "code",
   "execution_count": 2,
   "metadata": {},
   "outputs": [],
   "source": [
    "import os\n",
    "import numpy as np"
   ]
  },
  {
   "cell_type": "code",
   "execution_count": 3,
   "metadata": {},
   "outputs": [
    {
     "name": "stdout",
     "output_type": "stream",
     "text": [
      "1474\n"
     ]
    }
   ],
   "source": [
    "lm = np.load('data/sau/annotations/Val_201912.npy', allow_pickle = True).item()\n",
    "lm_ims = list(lm.keys())\n",
    "print(len(lm_ims))"
   ]
  },
  {
   "cell_type": "code",
   "execution_count": 4,
   "metadata": {},
   "outputs": [
    {
     "name": "stdout",
     "output_type": "stream",
     "text": [
      "1474\n"
     ]
    }
   ],
   "source": [
    "val_ims = os.listdir('data/sau/Val_201912')\n",
    "print(len(val_ims))"
   ]
  },
  {
   "cell_type": "code",
   "execution_count": 5,
   "metadata": {},
   "outputs": [],
   "source": [
    "for val_im in val_ims:\n",
    "    if val_im not in lm_ims:\n",
    "        #os.remove(os.path.join('data/sau/Val_201912', val_im))\n",
    "        print(val_im)"
   ]
  },
  {
   "cell_type": "code",
   "execution_count": 6,
   "metadata": {},
   "outputs": [],
   "source": [
    "for lm_im in lm_ims:\n",
    "    if lm_im not in val_ims:\n",
    "        print(lm_im)"
   ]
  },
  {
   "cell_type": "code",
   "execution_count": 17,
   "metadata": {},
   "outputs": [
    {
     "name": "stdout",
     "output_type": "stream",
     "text": [
      "17943\n"
     ]
    }
   ],
   "source": [
    "lmt = np.load('data/sau/annotations/Train_201912.npy', allow_pickle = True).item()\n",
    "lmt_ims = list(lmt.keys())\n",
    "print(len(lmt_ims))"
   ]
  },
  {
   "cell_type": "code",
   "execution_count": 18,
   "metadata": {},
   "outputs": [
    {
     "name": "stdout",
     "output_type": "stream",
     "text": [
      "17943\n"
     ]
    }
   ],
   "source": [
    "train_ims = os.listdir('data/sau/Train_201912')\n",
    "print(len(train_ims))"
   ]
  },
  {
   "cell_type": "code",
   "execution_count": 19,
   "metadata": {},
   "outputs": [],
   "source": [
    "for i in lmt_ims:\n",
    "    if i not in train_ims:\n",
    "        print(i)"
   ]
  },
  {
   "cell_type": "code",
   "execution_count": 20,
   "metadata": {},
   "outputs": [],
   "source": [
    "for i in train_ims:\n",
    "    if i not in lmt_ims:\n",
    "        #os.remove(os.path.join('data/sau/Train_201912', i))\n",
    "        print(i)"
   ]
  },
  {
   "cell_type": "code",
   "execution_count": null,
   "metadata": {},
   "outputs": [],
   "source": []
  },
  {
   "cell_type": "code",
   "execution_count": null,
   "metadata": {},
   "outputs": [],
   "source": []
  }
 ],
 "metadata": {
  "kernelspec": {
   "display_name": "Python mmlab",
   "language": "python",
   "name": "open-mmlab"
  },
  "language_info": {
   "codemirror_mode": {
    "name": "ipython",
    "version": 3
   },
   "file_extension": ".py",
   "mimetype": "text/x-python",
   "name": "python",
   "nbconvert_exporter": "python",
   "pygments_lexer": "ipython3",
   "version": "3.7.4"
  }
 },
 "nbformat": 4,
 "nbformat_minor": 2
}
