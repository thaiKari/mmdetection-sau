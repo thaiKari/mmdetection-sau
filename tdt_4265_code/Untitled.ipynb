{
 "cells": [
  {
   "cell_type": "code",
   "execution_count": 1,
   "metadata": {},
   "outputs": [],
   "source": [
    "## SAVE DISTRIBUTED MODULE PROPERLY"
   ]
  },
  {
   "cell_type": "code",
   "execution_count": 1,
   "metadata": {},
   "outputs": [],
   "source": [
    "import os\n",
    "import torch\n",
    "from resnet import ResNet"
   ]
  },
  {
   "cell_type": "code",
   "execution_count": 7,
   "metadata": {},
   "outputs": [],
   "source": [
    "img_type = 'rgb'\n",
    "time_stamp = '20200329_1239'\n",
    "network_depth = 50\n",
    "epoch = 154\n",
    "learning_rate = 5e-05\n",
    "\n",
    "root_work_dir = './Work_dirs/work_dirs_external/'\n",
    "work_dir = root_work_dir+ img_type +'/' + time_stamp\n",
    "\n",
    "\n",
    "\n",
    "model = ResNet(image_channels=3, num_classes=9, depth=network_depth)\n",
    "\n",
    "model = torch.nn.DataParallel(model, device_ids = [0,1])\n",
    "model.to(f'cuda:{model.device_ids[0]}')\n",
    "\n",
    "pretrained_dict = torch.load(os.path.join(work_dir, 'model_best.pth.tar'))['state_dict'] #, map_location=\"cuda:0\"\n",
    "model.load_state_dict(pretrained_dict, strict=False)          \n",
    "model = model.eval()\n",
    "\n",
    "state_dict = model.module.state_dict()\n",
    "\n",
    "optimizer = torch.optim.Adam(model.parameters(),learning_rate)\n",
    "\n",
    "torch.save(\n",
    "    {\n",
    "                'epoch': epoch,\n",
    "                'state_dict': state_dict,\n",
    "                'optimizer_state_dict': optimizer.state_dict(),\n",
    "            },\n",
    "    os.path.join(work_dir, 'model_best2.pth.tar')\n",
    ")\n"
   ]
  },
  {
   "cell_type": "code",
   "execution_count": null,
   "metadata": {},
   "outputs": [],
   "source": []
  }
 ],
 "metadata": {
  "kernelspec": {
   "display_name": "Python mmlab",
   "language": "python",
   "name": "open-mmlab"
  },
  "language_info": {
   "codemirror_mode": {
    "name": "ipython",
    "version": 3
   },
   "file_extension": ".py",
   "mimetype": "text/x-python",
   "name": "python",
   "nbconvert_exporter": "python",
   "pygments_lexer": "ipython3",
   "version": "3.7.4"
  }
 },
 "nbformat": 4,
 "nbformat_minor": 2
}
