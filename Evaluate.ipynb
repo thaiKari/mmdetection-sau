{
 "cells": [
  {
   "cell_type": "code",
   "execution_count": 1,
   "metadata": {},
   "outputs": [],
   "source": [
    "## Run to generate result file:\n",
    "#python tools/test.py {CONFIG_FILE} {CHECKPOINT_FILE}  --eval bbox  --out result.pkl\n",
    "#python tools/test.py 'configs/00_faster_rcnn_r50_fpn_1x-SAU.py' 'work_dirs/faster_rcnn_r50_fpn_1x/latest.pth'  --eval bbox  --out result.pkl \n"
   ]
  },
  {
   "cell_type": "code",
   "execution_count": 9,
   "metadata": {},
   "outputs": [],
   "source": [
    "import pickle\n",
    "\n",
    "with open('result.pkl', 'rb') as f:\n",
    "    result = pickle.load(f)"
   ]
  },
  {
   "cell_type": "code",
   "execution_count": 10,
   "metadata": {},
   "outputs": [
    {
     "data": {
      "text/plain": [
       "[array([[13.119959 , 29.150892 , 36.91468  , 51.105255 ,  0.7263154]],\n",
       "       dtype=float32)]"
      ]
     },
     "execution_count": 10,
     "metadata": {},
     "output_type": "execute_result"
    }
   ],
   "source": [
    "type(result)\n",
    "result[-1]"
   ]
  },
  {
   "cell_type": "code",
   "execution_count": null,
   "metadata": {},
   "outputs": [],
   "source": [
    "#run in terminal\n",
    "\n",
    "DIR='work_dirs/faster_rcnn_r50_fpn_1x'\n",
    "CONFIG='configs/00_faster_rcnn_r50_fpn_1x-SAU.py'\n",
    "CUDA_VISIBLE_DEVICES=0,1 ./tools/dist_test.sh ${CONFIG} ${DIR}/latest.pth 2 --out ${DIR}/bbox_predict.pkl --eval bbox > ${DIR}/result.txt"
   ]
  },
  {
   "cell_type": "code",
   "execution_count": 8,
   "metadata": {
    "scrolled": true
   },
   "outputs": [
    {
     "data": {
      "text/plain": [
       "<matplotlib.collections.PathCollection at 0x7fd6a5575610>"
      ]
     },
     "execution_count": 8,
     "metadata": {},
     "output_type": "execute_result"
    },
    {
     "data": {
      "image/png": "[encoded data removed]",
      "text/plain": [
       "<Figure size 432x288 with 1 Axes>"
      ]
     },
     "metadata": {
      "needs_background": "light"
     },
     "output_type": "display_data"
    }
   ],
   "source": [
    "import matplotlib.pyplot as plt\n",
    "\n",
    "#From results.txt:\n",
    "precisions = [0.579, 0.926, 0.652, 0.383, 0.625, 0.735]\n",
    "recalls = [0.376, 0.629, 0.629, 0.443, 0.680, 0.783 ]\n",
    "\n",
    "plt.figure()\n",
    "plt.scatter(recalls, precisions)\n",
    "\n"
   ]
  },
  {
   "cell_type": "code",
   "execution_count": null,
   "metadata": {},
   "outputs": [],
   "source": [
    "import eval_map from mmdet.core.evaluation.mean_ap\n",
    "\n",
    "\n"
   ]
  }
 ],
 "metadata": {
  "kernelspec": {
   "display_name": "open-mmlab",
   "language": "python",
   "name": "myenv"
  },
  "language_info": {
   "codemirror_mode": {
    "name": "ipython",
    "version": 3
   },
   "file_extension": ".py",
   "mimetype": "text/x-python",
   "name": "python",
   "nbconvert_exporter": "python",
   "pygments_lexer": "ipython3",
   "version": "3.7.5"
  }
 },
 "nbformat": 4,
 "nbformat_minor": 2
}
