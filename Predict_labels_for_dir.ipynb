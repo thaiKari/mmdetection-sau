{
 "cells": [
  {
   "cell_type": "code",
   "execution_count": 6,
   "metadata": {},
   "outputs": [],
   "source": [
    "from mmdet.apis import init_detector, inference_detector, show_result_pyplot\n",
    "import torch\n",
    "import mmcv\n",
    "import cv2\n",
    "import math\n",
    "import os\n",
    "import numpy as np"
   ]
  },
  {
   "cell_type": "code",
   "execution_count": 7,
   "metadata": {},
   "outputs": [],
   "source": [
    "config_file = 'configs/08_faster_rcnn_r50_fpn_1x-SAU.py'\n",
    "checkpoint_file = 'work_dirs/20191101_01/epoch_9.pth'\n",
    "\n",
    "model = init_detector(config_file, checkpoint_file, device='cuda:0')"
   ]
  },
  {
   "cell_type": "code",
   "execution_count": 8,
   "metadata": {},
   "outputs": [],
   "source": [
    "img_path = 'data/sau/Val'"
   ]
  },
  {
   "cell_type": "code",
   "execution_count": 9,
   "metadata": {},
   "outputs": [],
   "source": [
    "label_map = {}\n",
    "\n",
    "for path in os.listdir(img_path):\n",
    "    if '.JPG' in path:\n",
    "        labels = []\n",
    "        result = inference_detector(model, os.path.join(img_path, path))\n",
    "        Threshold = 0.5\n",
    "        results_good =[]\n",
    "        for r in result[0]:\n",
    "            #if r[-1] > Threshold:\n",
    "            minx, miny, maxx, maxy = list(map( lambda i: int(i),r[:-1]))            \n",
    "            labels.append({'sheep_color': 'white',\n",
    "                            'geometry':[[minx, miny],[maxx, maxy]],\n",
    "                           'confidence': r[-1]\n",
    "                              })\n",
    "        label_map[path] = {'labels' : labels}"
   ]
  },
  {
   "cell_type": "code",
   "execution_count": 10,
   "metadata": {},
   "outputs": [],
   "source": [
    "np.save(os.path.join('data/sau', '9_val_pred_labels_epoch9.npy'), label_map)"
   ]
  },
  {
   "cell_type": "markdown",
   "metadata": {},
   "source": [
    "label_map = np.load('data/sau/annotations/Train_crop_rot_instances_label_map.npy', allow_pickle = True).item()\n",
    "for k in label_map.keys():\n",
    "    try:\n",
    "        cv2.imread( os.path.join(img_path, k) )\n",
    "    except:\n",
    "        print(k)"
   ]
  },
  {
   "cell_type": "code",
   "execution_count": null,
   "metadata": {},
   "outputs": [],
   "source": []
  }
 ],
 "metadata": {
  "kernelspec": {
   "display_name": "Python mmlab",
   "language": "python",
   "name": "open-mmlab"
  },
  "language_info": {
   "codemirror_mode": {
    "name": "ipython",
    "version": 3
   },
   "file_extension": ".py",
   "mimetype": "text/x-python",
   "name": "python",
   "nbconvert_exporter": "python",
   "pygments_lexer": "ipython3",
   "version": "3.7.4"
  }
 },
 "nbformat": 4,
 "nbformat_minor": 2
}
