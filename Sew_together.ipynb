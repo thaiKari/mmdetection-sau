{
 "cells": [
  {
   "cell_type": "code",
   "execution_count": 1,
   "metadata": {},
   "outputs": [],
   "source": [
    "from mmdet.apis import init_detector, inference_detector, show_result_pyplot\n",
    "import os\n",
    "import matplotlib.pyplot as plt\n",
    "import cv2\n",
    "import matplotlib.patches as patches\n",
    "from operator import itemgetter\n",
    "import numpy as np\n",
    "import time"
   ]
  },
  {
   "cell_type": "code",
   "execution_count": 2,
   "metadata": {},
   "outputs": [
    {
     "data": {
      "text/plain": [
       "['libra_20191211',\n",
       " 'libra_20191206',\n",
       " 'libra_20191203_0',\n",
       " 'libra_20191212',\n",
       " 'libra_20191210',\n",
       " 'libra_20191205_0']"
      ]
     },
     "execution_count": 2,
     "metadata": {},
     "output_type": "execute_result"
    }
   ],
   "source": [
    "os.listdir('./work_dirs/')"
   ]
  },
  {
   "cell_type": "code",
   "execution_count": 3,
   "metadata": {},
   "outputs": [],
   "source": [
    "\n",
    "\n",
    "path = './data/sau/Val'\n",
    "\n",
    "#im_name = 'oct19_103MEDIA_DJI_0588.JPG'\n",
    "im_name = 'sep19_102MEDIA_DJI_0195.JPG'\n",
    "#im_name = 'sep19_102MEDIA_DJI_0223.JPG'\n",
    "#im_name = 'oct19_103MEDIA_DJI_0584.JPG'\n",
    "im = cv2.imread( os.path.join(path, im_name) )\n",
    "im = cv2.cvtColor(im, cv2.COLOR_BGR2RGB)"
   ]
  },
  {
   "cell_type": "code",
   "execution_count": 4,
   "metadata": {},
   "outputs": [],
   "source": [
    "config_file = 'configs/libra_rcnn/04_libra_faster_rcnn_x101_64x4d_fpn_1x-SAU.py'\n",
    "checkpoint_file = './work_dirs/libra_20191212/epoch_8.pth'\n",
    "\n",
    "model = init_detector(config_file, checkpoint_file, device='cuda:0')\n"
   ]
  },
  {
   "cell_type": "code",
   "execution_count": 5,
   "metadata": {},
   "outputs": [],
   "source": [
    "confidence_T = 0.0"
   ]
  },
  {
   "cell_type": "code",
   "execution_count": 6,
   "metadata": {},
   "outputs": [],
   "source": [
    "def get_labels(result):\n",
    "    labels = []\n",
    "    results_good =[]\n",
    "    for r in result[0]:\n",
    "        minx, miny, maxx, maxy = list(map( lambda i: int(i),r[:-1]))            \n",
    "        labels.append({'sheep_color': 'white',\n",
    "                        'geometry':[[minx, miny],[maxx, maxy]],\n",
    "                       'confidence': r[-1]\n",
    "                          })\n",
    "    return labels\n",
    "\n",
    "def show_im_with_boxes_not_saved(im, labels, save_to_filename = False):\n",
    "    fig,ax = plt.subplots(1, figsize=(20, 20))\n",
    "    ax.imshow(im)    \n",
    "    \n",
    "    for l in labels:\n",
    "        geom = l['geometry']\n",
    "        \n",
    "        xmin, ymin = geom[0]\n",
    "        xmax, ymax = geom[1]\n",
    "        w = xmax - xmin\n",
    "        h = ymax - ymin\n",
    "        rect = patches.Rectangle((xmin,ymin),w,h,linewidth=4,edgecolor='#92d050',facecolor='none')\n",
    "        ax.add_patch(rect)\n",
    "        plt.text(xmin,ymin, round(l['confidence'], 3), c='red', fontsize=18 )\n",
    "    if save_to_filename:\n",
    "        plt.savefig(save_to_filename)\n",
    "    plt.draw()\n",
    "    plt.show()"
   ]
  },
  {
   "cell_type": "markdown",
   "metadata": {},
   "source": [
    "Show inference for full image:"
   ]
  },
  {
   "cell_type": "code",
   "execution_count": null,
   "metadata": {},
   "outputs": [],
   "source": []
  },
  {
   "cell_type": "markdown",
   "metadata": {},
   "source": [
    "Split 3040"
   ]
  },
  {
   "cell_type": "code",
   "execution_count": 7,
   "metadata": {},
   "outputs": [
    {
     "name": "stdout",
     "output_type": "stream",
     "text": [
      "(3040, 4056)\n"
     ]
    }
   ],
   "source": [
    "print(im.shape[:2])"
   ]
  },
  {
   "cell_type": "code",
   "execution_count": 8,
   "metadata": {},
   "outputs": [],
   "source": [
    "h, w = im.shape[:2]"
   ]
  },
  {
   "cell_type": "code",
   "execution_count": 9,
   "metadata": {},
   "outputs": [],
   "source": [
    "def get_minxys(h, w, h_new, w_new):\n",
    "    pos = 0\n",
    "    minxs = []\n",
    "    while pos < w - w_new:\n",
    "        minxs.append(int(pos))\n",
    "        pos = pos + w_new/2\n",
    "    minxs.append(int(w-w_new))\n",
    "\n",
    "    pos = 0\n",
    "    minys = []\n",
    "    while pos < h - h_new:\n",
    "        minys.append(int(pos))\n",
    "        pos = pos + h_new/2\n",
    "    minys.append(int(h-h_new))\n",
    "    \n",
    "    return minxs, minys"
   ]
  },
  {
   "cell_type": "code",
   "execution_count": 10,
   "metadata": {},
   "outputs": [
    {
     "data": {
      "application/javascript": [
       "IPython.OutputArea.prototype._should_scroll = function(lines) {\n",
       "    return false;\n",
       "}\n"
      ],
      "text/plain": [
       "<IPython.core.display.Javascript object>"
      ]
     },
     "metadata": {},
     "output_type": "display_data"
    }
   ],
   "source": [
    "%%javascript\n",
    "IPython.OutputArea.prototype._should_scroll = function(lines) {\n",
    "    return false;\n",
    "}"
   ]
  },
  {
   "cell_type": "code",
   "execution_count": 11,
   "metadata": {},
   "outputs": [],
   "source": [
    "def is_edge_sheep(box, h, w, h_new, w_new, posx, posy):\n",
    "    D=20\n",
    "    xmin, ymin = box[0]\n",
    "    xmax, ymax = box[1]\n",
    "    \n",
    "    if(xmin < D and posx > 0):\n",
    "        return True\n",
    "    if(ymin < D and posy > 0):\n",
    "        return True\n",
    "    if(w_new - xmax < D and posx < w - w_new):\n",
    "        return True\n",
    "    if(h_new - ymax < D and posy < h - h_new):\n",
    "        return True\n",
    "    \n",
    "    return False\n",
    "\n",
    "\n",
    "def tranform_box_to_full_im_coords(label, posx, posy):\n",
    "        box = label['geometry']\n",
    "        xmin, ymin = box[0]\n",
    "        xmax, ymax = box[1]\n",
    "        \n",
    "        new_xmin = xmin + posx\n",
    "        new_xmax = xmax + posx\n",
    "        new_ymin = ymin + posy\n",
    "        new_ymax = ymax + posy\n",
    "        \n",
    "        label['geometry'] = [ [new_xmin, new_ymin], [new_xmax, new_ymax]  ]\n",
    "        \n",
    "        return label\n",
    "\n",
    "    \n",
    "def iou(geom1, geom2):\n",
    "    xmin1, ymin1 = geom1[0]\n",
    "    xmax1, ymax1 = geom1[1]\n",
    "    xmin2, ymin2 = geom2[0]\n",
    "    xmax2, ymax2 = geom2[1]\n",
    "    \n",
    "    A1 = (xmax1 - xmin1)*(ymax1-ymin1)\n",
    "    A2 = (xmax2 - xmin2)*(ymax2-ymin2)\n",
    "    \n",
    "    dx_inter = min(xmax1,xmax2) - max(xmin1, xmin2)\n",
    "    dy_inter = min(ymax1, ymax2) - max(ymin1, ymin2)\n",
    "    A_inter=0\n",
    "    if (dx_inter > 0) and (dy_inter > 0 ):\n",
    "        A_inter = dx_inter*dy_inter\n",
    "    \n",
    "    A_union = A1 + A2 - A_inter\n",
    "    \n",
    "    if A_union == 0:\n",
    "        return 0\n",
    "    \n",
    "    return A_inter / A_union\n",
    "\n",
    "\n",
    "def remove_duplicate_labels(labels):\n",
    "    \n",
    "    if(len(labels) <= 1):\n",
    "        return labels\n",
    "    \n",
    "    ok_labels = []\n",
    "    skip_indices = set()\n",
    "    \n",
    "    for i in range(len(labels) - 1):\n",
    "        if not i in skip_indices:\n",
    "            geom1 = labels[i]['geometry']\n",
    "            duplicate_indices = [i]\n",
    "            for j in range(i +1 , len(labels)):\n",
    "                if not j in skip_indices:\n",
    "                    geom2 = labels[j]['geometry']\n",
    "                    if iou(geom1, geom2) > 0.5:\n",
    "\n",
    "                        duplicate_indices.append(j)\n",
    "                        skip_indices.update([i,j])\n",
    "\n",
    "            #WE DONT WANT MEAN OF OVERLAPPING BOXES. WANT THE ONE WITH MAX CONF (i)\n",
    "            #if(len(duplicate_indices) > 1):\n",
    "            #    geoms = list(map( lambda i: labels[i]['geometry'] , duplicate_indices))\n",
    "            #    geoms = np.asarray(geoms)\n",
    "            #    new_g = np.mean(geoms, axis = 0)\n",
    "            #    labels[i]['geometry'] = new_g\n",
    "                \n",
    "            ok_labels.append(labels[i])\n",
    "    \n",
    "    if(not len(labels) - 1 in skip_indices):\n",
    "        ok_labels.append(labels[len(labels) - 1])\n",
    "        \n",
    "    return ok_labels        "
   ]
  },
  {
   "cell_type": "code",
   "execution_count": 12,
   "metadata": {},
   "outputs": [],
   "source": [
    "def get_full_im_labels_by_classifying_split_im(h_new, w_new, im=im):\n",
    "    minxs, minys = get_minxys(h, w, h_new, w_new) \n",
    "    Full_im_labels = []\n",
    "\n",
    "    #Predict for split im. Transform to full im coordinates.\n",
    "    for minx in minxs:\n",
    "        for miny in minys:\n",
    "            part_im = im[miny:miny+h_new, minx: minx + w_new]\n",
    "            result = inference_detector(model, part_im)\n",
    "            labels = get_labels(result)\n",
    "            labels = list(filter( lambda l: l['confidence'] > confidence_T ,labels))\n",
    "            #Dont include sheep on edges (have overlap anyways)       \n",
    "            labels = list(filter( lambda box: not is_edge_sheep(box['geometry'],h, w, h_new, w_new, minx, miny) ,labels))        \n",
    "\n",
    "            if len(labels) > 0:\n",
    "                labels = list(map( lambda l: tranform_box_to_full_im_coords(l, minx, miny) , labels))\n",
    "                Full_im_labels = [*Full_im_labels, *labels]\n",
    "                \n",
    "    #none maximum supression\n",
    "    Full_im_labels = sorted(Full_im_labels, key=itemgetter('confidence'), reverse=True)\n",
    "    Full_im_labels = remove_duplicate_labels(Full_im_labels)\n",
    "    \n",
    "    return Full_im_labels"
   ]
  },
  {
   "cell_type": "markdown",
   "metadata": {},
   "source": [
    "## Full image\n",
    "start = time.time()\n",
    "result = inference_detector(model, os.path.join(path, im_name))\n",
    "labels = get_labels(result)\n",
    "labels = list(filter( lambda l: l['confidence'] > confidence_T ,labels))\n",
    "labels = sorted(labels, key=itemgetter('confidence'), reverse=True)\n",
    "labels0 = remove_duplicate_labels(labels)\n",
    "end = time.time()\n",
    "print(end - start)\n",
    "show_im_with_boxes_not_saved(im, labels0)"
   ]
  },
  {
   "cell_type": "markdown",
   "metadata": {},
   "source": [
    "h_new = w_new  = 3040\n",
    "labels1 = get_full_im_labels_by_classifying_split_im(h_new, w_new)\n",
    "#show_im_with_boxes_not_saved(im, labels1)         "
   ]
  },
  {
   "cell_type": "markdown",
   "metadata": {},
   "source": [
    "h_new = w_new  = 1024\n",
    "labels2 = get_full_im_labels_by_classifying_split_im(h_new, w_new)\n",
    "labels2 = list(filter( lambda l: l['confidence'] > 0.8 ,labels2))\n",
    "show_im_with_boxes_not_saved(im, labels2) "
   ]
  },
  {
   "cell_type": "markdown",
   "metadata": {},
   "source": [
    "## Use boxes from all:\n",
    "all_labels = [*labels0, *labels1, *labels2]\n",
    "all_labels = sorted(all_labels, key=itemgetter('confidence'), reverse=True)\n",
    "all_labels = remove_duplicate_labels(all_labels)\n",
    "show_im_with_boxes_not_saved(im, all_labels) "
   ]
  },
  {
   "cell_type": "markdown",
   "metadata": {},
   "source": [
    "img_path = 'data/sau/Val'\n",
    "label_map_wth_split = np.load(os.path.join(img_path, '01_valpred_split_libra_20191205_0_epoch_6.npy'), allow_pickle = True).item()\n",
    "label_map_no_split = np.load(os.path.join(img_path, '01_valpred_nosplit_libra_20191205_0_epoch_6.npy'), allow_pickle = True).item()"
   ]
  },
  {
   "cell_type": "code",
   "execution_count": 13,
   "metadata": {},
   "outputs": [
    {
     "name": "stdout",
     "output_type": "stream",
     "text": [
      "1\n",
      "2\n",
      "3\n",
      "4\n",
      "5\n",
      "6\n",
      "7\n",
      "8\n",
      "9\n",
      "10\n",
      "11\n",
      "12\n",
      "13\n",
      "14\n",
      "15\n",
      "16\n",
      "17\n",
      "18\n",
      "19\n",
      "20\n",
      "21\n",
      "22\n",
      "23\n",
      "24\n",
      "25\n",
      "26\n",
      "27\n",
      "28\n",
      "29\n",
      "30\n",
      "31\n",
      "32\n",
      "33\n",
      "34\n",
      "35\n",
      "36\n",
      "37\n",
      "38\n",
      "39\n",
      "40\n",
      "41\n",
      "42\n",
      "43\n",
      "44\n",
      "45\n",
      "46\n",
      "47\n",
      "48\n",
      "49\n",
      "50\n",
      "51\n",
      "52\n",
      "53\n",
      "54\n",
      "55\n",
      "56\n",
      "57\n",
      "58\n",
      "oct19_103MEDIA_DJI_0592.JPG\n",
      "58 36.11808753013611\n",
      "59\n",
      "aug19_100MEDIA_DJI_0750.JPG\n",
      "59 36.16591548919678\n",
      "60\n",
      "sep19_102MEDIA_DJI_0265.JPG\n",
      "60 36.23295283317566\n",
      "61\n",
      "sep19_102MEDIA_DJI_0251.JPG\n",
      "61 36.265380859375\n",
      "62\n",
      "sep19_102MEDIA_DJI_0239.JPG\n",
      "62 36.236889600753784\n",
      "63\n",
      "aug19_100MEDIA_DJI_0762.JPG\n",
      "63 36.36073541641235\n",
      "64\n",
      "sep19_102MEDIA_DJI_0327.JPG\n",
      "64 36.39641308784485\n",
      "65\n",
      "sep19_102MEDIA_DJI_0231.JPG\n",
      "65 36.309133768081665\n",
      "66\n",
      "aug19_100MEDIA_DJI_0756.JPG\n",
      "66 36.44910025596619\n",
      "67\n",
      "aug19_100MEDIA_DJI_0752.JPG\n",
      "67 36.271493911743164\n",
      "68\n",
      "sep19_102MEDIA_DJI_0371.JPG\n",
      "68 36.27499985694885\n",
      "69\n",
      "sep19_102MEDIA_DJI_0195.JPG\n",
      "69 36.41334104537964\n",
      "70\n",
      "sep19_102MEDIA_DJI_0259.JPG\n",
      "70 36.3041250705719\n",
      "71\n",
      "sep19_102MEDIA_DJI_0203.JPG\n",
      "71 36.45099091529846\n",
      "72\n",
      "sep19_102MEDIA_DJI_0415.JPG\n",
      "72 36.394248962402344\n",
      "73\n",
      "sep19_102MEDIA_DJI_0383.JPG\n",
      "73 36.30132508277893\n",
      "74\n",
      "sep19_102MEDIA_DJI_0169.JPG\n",
      "74 36.33417868614197\n",
      "75\n",
      "sep19_102MEDIA_DJI_0187.JPG\n",
      "75 36.31543254852295\n",
      "76\n",
      "sep19_102MEDIA_DJI_0223.JPG\n",
      "76 36.2965452671051\n"
     ]
    }
   ],
   "source": [
    "img_path = 'data/sau/Val'\n",
    "#np.save( os.path.join(img_path, '04_pred_nosplit_libra_20191212_epoch_8.npy'), {} ) \n",
    "#np.save( os.path.join(img_path, '04_pred_split_libra_20191212_epoch_8.npy'), {} )\n",
    "\n",
    "label_map_wth_split = np.load(os.path.join(img_path, '04_pred_split_libra_20191212_epoch_8.npy'), allow_pickle = True).item()\n",
    "label_map_no_split = np.load(os.path.join(img_path, '04_pred_nosplit_libra_20191212_epoch_8.npy'), allow_pickle = True).item()\n",
    "\n",
    "i = 0\n",
    "\n",
    "for path in os.listdir(img_path):\n",
    "    if '.JPG' in path:\n",
    "        \n",
    "        i = i + 1\n",
    "        print(i)\n",
    "        \n",
    "        if not path in label_map_no_split.keys():\n",
    "            label_map_wth_split = np.load(os.path.join(img_path, '04_pred_split_libra_20191212_epoch_8.npy'), allow_pickle = True).item()\n",
    "            label_map_no_split = np.load(os.path.join(img_path, '04_pred_nosplit_libra_20191212_epoch_8.npy'), allow_pickle = True).item()\n",
    "            start = time.time()\n",
    "            print(path)\n",
    "            im = cv2.imread( os.path.join(img_path, path) )\n",
    "            im = cv2.cvtColor(im, cv2.COLOR_BGR2RGB)\n",
    "            labels_full = get_full_im_labels_by_classifying_split_im(3040, 4056, im=im)\n",
    "            labels_3040 = get_full_im_labels_by_classifying_split_im(3040, 3040, im=im)\n",
    "            labels_1024 = get_full_im_labels_by_classifying_split_im(1024, 1024, im=im)\n",
    "\n",
    "            all_labels = [*labels_full, *labels_3040, *labels_1024]\n",
    "            all_labels = sorted(all_labels, key=itemgetter('confidence'), reverse=True)\n",
    "            all_labels = remove_duplicate_labels(all_labels)\n",
    "\n",
    "            label_map_no_split[path] = {'labels' : labels_full}\n",
    "            label_map_wth_split[path] = {'labels' : all_labels}\n",
    "\n",
    "            end = time.time()\n",
    "            print(i, end - start)\n",
    "\n",
    "            np.save( os.path.join(img_path, '04_pred_nosplit_libra_20191212_epoch_8.npy'), label_map_no_split ) \n",
    "            np.save( os.path.join(img_path, '04_pred_split_libra_20191212_epoch_8.npy'), label_map_wth_split ) "
   ]
  },
  {
   "cell_type": "code",
   "execution_count": null,
   "metadata": {},
   "outputs": [],
   "source": []
  },
  {
   "cell_type": "code",
   "execution_count": null,
   "metadata": {},
   "outputs": [],
   "source": []
  },
  {
   "cell_type": "code",
   "execution_count": null,
   "metadata": {},
   "outputs": [],
   "source": []
  }
 ],
 "metadata": {
  "kernelspec": {
   "display_name": "open-mmlab",
   "language": "python",
   "name": "myenv"
  },
  "language_info": {
   "codemirror_mode": {
    "name": "ipython",
    "version": 3
   },
   "file_extension": ".py",
   "mimetype": "text/x-python",
   "name": "python",
   "nbconvert_exporter": "python",
   "pygments_lexer": "ipython3",
   "version": "3.7.5"
  }
 },
 "nbformat": 4,
 "nbformat_minor": 2
}
